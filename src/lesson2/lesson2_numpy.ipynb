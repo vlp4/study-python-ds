{
  "nbformat": 4,
  "nbformat_minor": 0,
  "metadata": {
    "colab": {
      "name": "Lesson2.ipynb",
      "provenance": [],
      "authorship_tag": "ABX9TyNse9ZDP2vOBkslTgf3DEjn",
      "include_colab_link": true
    },
    "kernelspec": {
      "name": "python3",
      "display_name": "Python 3"
    },
    "language_info": {
      "name": "python"
    }
  },
  "cells": [
    {
      "cell_type": "markdown",
      "metadata": {
        "id": "view-in-github",
        "colab_type": "text"
      },
      "source": [
        "<a href=\"https://colab.research.google.com/github/vlp4/study-python-ds/blob/master/src/lesson2/Lesson2.ipynb\" target=\"_parent\"><img src=\"https://colab.research.google.com/assets/colab-badge.svg\" alt=\"Open In Colab\"/></a>"
      ]
    },
    {
      "cell_type": "code",
      "metadata": {
        "colab": {
          "base_uri": "https://localhost:8080/"
        },
        "id": "uQypkgpO6JZM",
        "outputId": "6cf8db1d-53a9-4475-97c9-71122cb43aee"
      },
      "source": [
        "import numpy as np\n",
        "\n",
        "# Задание 1 Импортируйте библиотеку Numpy и дайте ей псевдоним np. Создайте массив Numpy под названием a размером\n",
        "# 5x2, то есть состоящий из 5 строк и 2 столбцов. Первый столбец должен содержать числа 1, 2, 3, 3, 1, а второй -\n",
        "# числа 6, 8, 11, 10, 7. Будем считать, что каждый столбец - это признак, а строка - наблюдение. Затем найдите\n",
        "# среднее значение по каждому признаку, используя метод mean массива Numpy. Результат запишите в массив mean_a,\n",
        "# в нем должно быть 2 элемента.\n",
        "a = np.array([\n",
        "    [1, 6],\n",
        "    [2, 8],\n",
        "    [3, 11],\n",
        "    [3, 10],\n",
        "    [1, 7]\n",
        "])\n",
        "print(f'a = {a}')\n",
        "\n",
        "mean_a = a.mean(axis=0)\n",
        "print(f'mean_a = {mean_a}')\n",
        "\n",
        "# Задание 2 Вычислите массив a_centered, отняв от значений массива “а” средние значения соответствующих признаков,\n",
        "# содержащиеся в массиве mean_a. Вычисление должно производиться в одно действие. Получившийся массив должен иметь\n",
        "# размер 5x2.\n",
        "a_centered = a - mean_a\n",
        "print(f'a_centered = {a_centered}')\n",
        "\n",
        "# Задание 3 Найдите скалярное произведение столбцов массива a_centered. В результате должна получиться величина\n",
        "# a_centered_sp. Затем поделите a_centered_sp на N-1, где N - число наблюдений.\n",
        "a_centered_sp = np.dot(a_centered[:, 0], a_centered[:, 1])\n",
        "print(f'a_centered_sp = {a_centered_sp}')\n",
        "N = a.shape[0]\n",
        "print(f'N = {N}. a_centered_sp / (N-1) = {a_centered_sp / (N-1)}')\n",
        "\n",
        "\n",
        "# Задание 4** Число, которое мы получили в конце задания 3 является ковариацией двух признаков, содержащихся в\n",
        "# массиве “а”. В задании 4 мы делили сумму произведений центрированных признаков на N-1, а не на N,\n",
        "# поэтому полученная нами величина является несмещенной оценкой ковариации. Подробнее узнать о ковариации можно\n",
        "# здесь: Выборочная ковариация и выборочная дисперсия — Студопедия В этом задании проверьте получившееся число,\n",
        "# вычислив ковариацию еще одним способом - с помощью функции np.cov. В качестве аргумента m функция np.cov должна\n",
        "# принимать транспонированный массив “a”. В получившейся ковариационной матрице (массив Numpy размером 2x2) искомое\n",
        "# значение ковариации будет равно элементу в строке с индексом 0 и столбце с индексом 1.\n",
        "at = a.transpose()\n",
        "cov = np.cov(at)\n",
        "print(f'Covariance matrix = {cov}. Correlation = {cov[0,1]}')"
      ],
      "execution_count": 2,
      "outputs": [
        {
          "output_type": "stream",
          "name": "stdout",
          "text": [
            "a = [[ 1  6]\n",
            " [ 2  8]\n",
            " [ 3 11]\n",
            " [ 3 10]\n",
            " [ 1  7]]\n",
            "mean_a = [2.  8.4]\n",
            "a_centered = [[-1.  -2.4]\n",
            " [ 0.  -0.4]\n",
            " [ 1.   2.6]\n",
            " [ 1.   1.6]\n",
            " [-1.  -1.4]]\n",
            "a_centered_sp = 8.0\n",
            "N = 5. a_centered_sp / (N-1) = 2.0\n",
            "Covariance matrix = [[1.  2. ]\n",
            " [2.  4.3]]. Correlation = 2.0\n"
          ]
        }
      ]
    }
  ]
}